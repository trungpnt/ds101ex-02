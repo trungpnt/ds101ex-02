{
 "cells": [
  {
   "cell_type": "code",
   "execution_count": 49,
   "metadata": {},
   "outputs": [],
   "source": [
    "from selenium import webdriver\n",
    "from selenium.webdriver.support.ui import WebDriverWait\n",
    "from selenium.webdriver.support import expected_conditions as EC\n",
    "from selenium.webdriver.common.by import By\n",
    "from selenium.common.exceptions import TimeoutException\n",
    "from selenium.webdriver.common.keys import Keys\n",
    "from datetime import date,timedelta\n",
    "import time\n",
    "\n",
    "browser = webdriver.Chrome('D:/Selenium/chromedriver_win32/chromedriver.exe')\n",
    "browser.get('https://portal.vietcombank.com.vn/Personal/TG/Pages/ty-gia.aspx')\n",
    "\n",
    "def locateTheBox():\n",
    "    delay = 2\n",
    "    try:\n",
    "        txtbox = WebDriverWait(browser,delay).until(EC.presence_of_element_located((By.ID,'txttungay')))\n",
    "    except TimeoutException:\n",
    "        print (\"Loading for too long\")\n",
    "    return txtbox\n",
    "\n",
    "def click(dt,txtbox):\n",
    "    txtbox.click()\n",
    "    txtbox.clear()\n",
    "    txtbox.send_keys(dt)\n",
    "    txtbox.send_keys(Keys.TAB)\n",
    "\n",
    "#Generates dates\n",
    "def dateRange(date1,date2):\n",
    "    diff = int((date2-date1).days)\n",
    "    for n in range(diff+1):\n",
    "        yield date1 + timedelta(n)\n",
    "        \n",
    "def dateRangeGenerator(date1,date2):\n",
    "    dateEntries = list()\n",
    "    for yieldedDt in dateRange(date1,date2):\n",
    "        dateEntries.append(yieldedDt.strftime(\"%d/%m/%Y\"))\n",
    "    return dateEntries\n",
    "\n",
    "startDate = date(2020,6,1)\n",
    "endDate = date(2020,7,31)\n",
    "list_clean_rates = list()\n",
    "eachRow = list()\n",
    "for dt in dateRangeGenerator(startDate,endDate):\n",
    "    box = locateTheBox()\n",
    "    click(dt,box)\n",
    "    time.sleep(1)\n",
    "    try:\n",
    "        tbody = browser.find_element_by_css_selector('#ctl00_Content_ExrateView >tbody')\n",
    "    except:\n",
    "        print(\"failed\")\n",
    "    \n",
    "    rows = tbody.find_elements_by_css_selector('tr')\n",
    "    \n",
    "    tblData = rows[2].find_elements_by_css_selector('td')\n",
    "    \n",
    "    for i in range(len(tblData)):\n",
    "        if tblData[1].text == 'AUD':\n",
    "            rate = tblData[4].text.replace(',','')\n",
    "            list_clean_rates.append(rate)\n",
    "            break\n",
    "    eachRow.append([dt,rate])\n"
   ]
  },
  {
   "cell_type": "code",
   "execution_count": 55,
   "metadata": {},
   "outputs": [],
   "source": [
    "import csv\n",
    "\n",
    "fields = ['date','rate']  \n",
    "with open('data/exchange_rate.aud.06_2020.07_2020.csv','w') as fp:\n",
    "    csvwriter = csv.writer(fp)\n",
    "    csvwriter.writerow(fields)\n",
    "    csvwriter.writerows(eachRow)"
   ]
  },
  {
   "cell_type": "code",
   "execution_count": 13,
   "metadata": {},
   "outputs": [
    {
     "name": "stdout",
     "output_type": "stream",
     "text": [
      "[16530.95 16530.95 16504.94 16311.7  16438.86 16337.46 16073.27 16073.27\n",
      " 16073.27 16087.43 16357.59 16266.9  16193.87 16158.31 16158.31 16158.31\n",
      " 16104.08 16311.62 16365.8  16160.89 16212.63 16212.63 16212.63 16216.21\n",
      " 16116.   16250.41 16285.75 16304.6  16304.6  16304.6  16417.67 16462.41\n",
      " 16335.22 16450.63 16332.91 16332.91 16332.91 16354.1  16318.79 16457.66\n",
      " 16464.76]\n",
      "[16530.95 16530.95 16504.94 16311.7  16311.7  16311.7  16073.27 16073.27\n",
      " 16073.27 16073.27 16073.27 16073.27 16073.27 16073.27 16073.27 16073.27\n",
      " 16073.27 16073.27 16073.27 16073.27 16073.27 16073.27 16073.27 16073.27\n",
      " 16073.27 16073.27 16073.27 16073.27 16073.27 16073.27 16073.27 16073.27\n",
      " 16073.27 16073.27 16073.27 16073.27 16073.27 16073.27 16073.27 16073.27\n",
      " 16073.27]\n",
      "391.48999999999796\n",
      "391.48999999999796\n",
      "After many complicate calculations ...\n",
      "Max profit we can get is 391.48999999999796\n"
     ]
    }
   ],
   "source": [
    "import pandas as pd\n",
    "import numpy as np\n",
    "df = pd.read_csv('data/exchange_rate.aud.06_2020.07_2020.csv')\n",
    "rate = df['rate'].values[5:-15]\n",
    "mins = np.minimum.accumulate(rate)\n",
    "print(rate)\n",
    "print(mins)\n",
    "max_benefit = max(rate - mins)\n",
    "print(max_benefit)\n",
    "\n",
    "ex_rates = df['rate'].values[5:-15].tolist()\n",
    "mins = np.minimum.accumulate(ex_rates)\n",
    "print(max(ex_rates-mins))\n",
    "%run main.py"
   ]
  },
  {
   "cell_type": "code",
   "execution_count": 24,
   "metadata": {},
   "outputs": [
    {
     "data": {
      "text/plain": [
       "[<matplotlib.lines.Line2D at 0x1e205a0fd48>]"
      ]
     },
     "execution_count": 24,
     "metadata": {},
     "output_type": "execute_result"
    },
    {
     "data": {
      "image/png": "[encoded data removed]",
      "text/plain": [
       "<Figure size 432x288 with 1 Axes>"
      ]
     },
     "metadata": {
      "needs_background": "light"
     },
     "output_type": "display_data"
    }
   ],
   "source": [
    "import matplotlib.pyplot as plt\n",
    "plt.plot(rate)\n",
    "plt.plot(mins)"
   ]
  },
  {
   "cell_type": "code",
   "execution_count": 17,
   "metadata": {},
   "outputs": [
    {
     "name": "stdout",
     "output_type": "stream",
     "text": [
      "391.48999999999796\n"
     ]
    }
   ],
   "source": [
    "# max_benefit = -10000\n",
    "# for i in range(rate.shape[0]-1):\n",
    "#     price_buy = rate[i]\n",
    "#     for j in range(i+1,rate.shape[0]):\n",
    "#         price_sell = rate[j]\n",
    "#         benefit = price_sell - price_buy\n",
    "#         if benefit > max_benefit:\n",
    "#             max_benefit = benefit\n",
    "            \n",
    "# print (max_benefit)"
   ]
  },
  {
   "cell_type": "code",
   "execution_count": null,
   "metadata": {},
   "outputs": [],
   "source": []
  }
 ],
 "metadata": {
  "kernelspec": {
   "display_name": "Python 3",
   "language": "python",
   "name": "python3"
  },
  "language_info": {
   "codemirror_mode": {
    "name": "ipython",
    "version": 3
   },
   "file_extension": ".py",
   "mimetype": "text/x-python",
   "name": "python",
   "nbconvert_exporter": "python",
   "pygments_lexer": "ipython3",
   "version": "3.7.7"
  }
 },
 "nbformat": 4,
 "nbformat_minor": 4
}
